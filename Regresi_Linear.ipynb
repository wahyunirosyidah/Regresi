{
  "cells": [
    {
      "cell_type": "markdown",
      "metadata": {
        "id": "view-in-github",
        "colab_type": "text"
      },
      "source": [
        "<a href=\"https://colab.research.google.com/github/wahyunirosyidah/Regresi/blob/main/Regresi_Linear.ipynb\" target=\"_parent\"><img src=\"https://colab.research.google.com/assets/colab-badge.svg\" alt=\"Open In Colab\"/></a>"
      ]
    },
    {
      "cell_type": "markdown",
      "metadata": {
        "id": "Ux1uBsSpKgZn"
      },
      "source": [
        "# LATIHAN REGRESI LINEAR"
      ]
    },
    {
      "cell_type": "markdown",
      "metadata": {
        "id": "li7YVP5hKgZo"
      },
      "source": [
        "Package"
      ]
    },
    {
      "cell_type": "code",
      "execution_count": null,
      "metadata": {
        "id": "RcSDnsZjKgZp"
      },
      "outputs": [],
      "source": [
        "import numpy as numpy\n",
        "import matplotlib.pyplot as plt\n",
        "from utils import *\n",
        "import copy\n",
        "import math\n",
        "%matplotlib inline"
      ]
    },
    {
      "cell_type": "markdown",
      "metadata": {
        "id": "ldW-mlCGKgZq"
      },
      "source": [
        "## Data Set"
      ]
    },
    {
      "cell_type": "code",
      "execution_count": null,
      "metadata": {
        "id": "dvgyoVmLKgZq"
      },
      "outputs": [],
      "source": [
        "#load data\n",
        "x_train,y_train=load_data()"
      ]
    },
    {
      "cell_type": "markdown",
      "metadata": {
        "id": "QKEWrBVdKgZq"
      },
      "source": [
        "### cek data x_train"
      ]
    },
    {
      "cell_type": "code",
      "execution_count": null,
      "metadata": {
        "id": "E2-8sZ6hKgZr",
        "outputId": "cbb38932-a67c-4308-d894-dee63addefe0"
      },
      "outputs": [
        {
          "name": "stdout",
          "output_type": "stream",
          "text": [
            "Type of data x_train:  <class 'numpy.ndarray'>\n",
            "First five elements in data x_train:  [6.1101 5.5277 8.5186 7.0032 5.8598]\n"
          ]
        }
      ],
      "source": [
        "print(\"Type of data x_train: \", type(x_train))\n",
        "print(\"First five elements in data x_train: \", x_train[:5])"
      ]
    },
    {
      "cell_type": "markdown",
      "metadata": {
        "id": "ERR58USHKgZr"
      },
      "source": [
        "### cek data y_train"
      ]
    },
    {
      "cell_type": "code",
      "execution_count": null,
      "metadata": {
        "id": "e74TIZ1HKgZs",
        "outputId": "ce3d9177-e800-4289-f629-263b18748289"
      },
      "outputs": [
        {
          "name": "stdout",
          "output_type": "stream",
          "text": [
            "Type of data y_train:  <class 'numpy.ndarray'>\n",
            "First five elemets in data y_train:  [17.592   9.1302 13.662  11.854   6.8233]\n"
          ]
        }
      ],
      "source": [
        "print(\"Type of data y_train: \", type(y_train))\n",
        "print(\"First five elemets in data y_train: \", y_train[:5])"
      ]
    },
    {
      "cell_type": "markdown",
      "metadata": {
        "id": "yYDxzP33KgZs"
      },
      "source": [
        "### Cek dimensi dari variabels dan banyaknya data tiap variabel"
      ]
    },
    {
      "cell_type": "code",
      "execution_count": null,
      "metadata": {
        "id": "TQ_2ot3wKgZs",
        "outputId": "71aac4a8-fba9-41d5-ca27-68d1a08de026"
      },
      "outputs": [
        {
          "name": "stdout",
          "output_type": "stream",
          "text": [
            "Dimensi x_train:  (97,)\n",
            "Dimensi y_train:  (97,)\n",
            "Panjang x_train:  97\n",
            "Panjang y_train:  97\n"
          ]
        }
      ],
      "source": [
        "print(\"Dimensi x_train: \", x_train.shape) #ada 97 baris, 1 kolom\n",
        "print(\"Dimensi y_train: \", y_train.shape) #ada 97 baris, 1 kolom\n",
        "print(\"Panjang x_train: \", len(x_train)) #ada 97 baris, 1 kolom\n",
        "print(\"Panjang y_train: \", len(y_train)) #ada 97 baris, 1 kolom"
      ]
    },
    {
      "cell_type": "markdown",
      "metadata": {
        "id": "QeQQXr5FKgZs"
      },
      "source": [
        "## Visualisasi Data"
      ]
    },
    {
      "cell_type": "code",
      "execution_count": null,
      "metadata": {
        "id": "z4_1lwQAKgZs",
        "outputId": "9abf5dad-c609-4499-cd91-2e405df4a1a9"
      },
      "outputs": [
        {
          "data": {
            "image/png": "[encoded data removed]",
            "text/plain": [
              "<Figure size 640x480 with 1 Axes>"
            ]
          },
          "metadata": {},
          "output_type": "display_data"
        }
      ],
      "source": [
        "plt.scatter(x_train, y_train, marker=\"o\", c=\"b\")\n",
        "plt.title(\"Profits vs Population per city\")\n",
        "plt.xlabel(\"Population in ncity 10.000s\")\n",
        "plt.ylabel(\"Profit in $10.000\")\n",
        "plt.show()\n"
      ]
    },
    {
      "cell_type": "markdown",
      "metadata": {
        "id": "fiWMJM-NKgZt"
      },
      "source": [
        "## Compute Cost\n",
        "Cari nilai w dan b yang terbaik.\n",
        "\n",
        "  The prediction of the model for that example\n",
        "    $$\n",
        "    f_{wb}(x^{(i)}) =  wx^{(i)} + b\n",
        "    $$\n",
        "   \n",
        "  The cost for that example  $$cost^{(i)} =  (f_{wb} - y^{(i)})^2$$\n",
        "Return the total cost over all examples\n",
        "  $$J(\\mathbf{w},b) = \\frac{1}{2m} \\sum\\limits_{i = 0}^{m-1} cost^{(i)}$$"
      ]
    },
    {
      "cell_type": "code",
      "execution_count": null,
      "metadata": {
        "id": "cjVkwf7FKgZt"
      },
      "outputs": [],
      "source": [
        "def compute_cost(x,y,w,b):\n",
        "    m=x.shape[0]\n",
        "    total_cost=0\n",
        "\n",
        "    cost=0\n",
        "    for i in range(m):\n",
        "        f_wbxi=w*x[i]+b\n",
        "        cost+=(f_wbxi-y[i])**2\n",
        "    total_cost=1/(2*m)*cost\n",
        "    return total_cost"
      ]
    },
    {
      "cell_type": "code",
      "execution_count": null,
      "metadata": {
        "id": "Rw0g3TveKgZt",
        "outputId": "3f7c751b-35ea-46df-a5f2-b5791987911e"
      },
      "outputs": [
        {
          "name": "stdout",
          "output_type": "stream",
          "text": [
            "Cost at initial w: 10.267\n"
          ]
        }
      ],
      "source": [
        "initial_w=1\n",
        "initial_b=1\n",
        "cost = compute_cost(x_train, y_train, initial_w, initial_b)\n",
        "print(f'Cost at initial w: {cost:.3f}')"
      ]
    },
    {
      "cell_type": "code",
      "execution_count": null,
      "metadata": {
        "id": "DY75UyTdKgZt"
      },
      "outputs": [],
      "source": []
    }
  ],
  "metadata": {
    "kernelspec": {
      "display_name": "Python 3",
      "language": "python",
      "name": "python3"
    },
    "language_info": {
      "codemirror_mode": {
        "name": "ipython",
        "version": 3
      },
      "file_extension": ".py",
      "mimetype": "text/x-python",
      "name": "python",
      "nbconvert_exporter": "python",
      "pygments_lexer": "ipython3",
      "version": "3.12.2"
    },
    "colab": {
      "provenance": [],
      "include_colab_link": true
    }
  },
  "nbformat": 4,
  "nbformat_minor": 0
}